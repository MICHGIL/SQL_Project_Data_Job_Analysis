{
 "cells": [
  {
   "cell_type": "code",
   "execution_count": 10,
   "metadata": {},
   "outputs": [],
   "source": [
    "import pandas as pd \n",
    "import matplotlib.pyplot as plt\n",
    "import seaborn as sns \n",
    "import os\n",
    "\n",
    "sns.set_theme()"
   ]
  },
  {
   "cell_type": "code",
   "execution_count": 2,
   "metadata": {},
   "outputs": [
    {
     "name": "stdout",
     "output_type": "stream",
     "text": [
      "Files in the folder\n",
      "--------------------\n",
      "1_most_in_demand_jobs.csv\n",
      "2_jobs_requiring_degree.csv\n",
      "3_top_demanded_skills.csv\n"
     ]
    }
   ],
   "source": [
    "# Set the data folder path\n",
    "results_folder = r'D:\\TECH HUB\\CODING\\SQL_Project_Data_Job_Analysis\\project_sql\\query_results'\n",
    "\n",
    "# Load all the query results from csv files\n",
    "results_dict = {} \n",
    "print(\"Files in the folder\")\n",
    "print(\"-\"*20)\n",
    "for idx, filename in enumerate(os.listdir(results_folder), start=1):\n",
    "    print(filename)\n",
    "    file_path = os.path.join(results_folder, filename)\n",
    "    results_dict[idx] = pd.read_csv(file_path)"
   ]
  },
  {
   "cell_type": "markdown",
   "metadata": {},
   "source": [
    "## Q1. What are the most in-demand data jobs in Poland?"
   ]
  },
  {
   "cell_type": "code",
   "execution_count": 30,
   "metadata": {},
   "outputs": [
    {
     "data": {
      "application/vnd.microsoft.datawrangler.viewer.v0+json": {
       "columns": [
        {
         "name": "index",
         "rawType": "int64",
         "type": "integer"
        },
        {
         "name": "position",
         "rawType": "object",
         "type": "string"
        },
        {
         "name": "job_posting_count",
         "rawType": "int64",
         "type": "integer"
        }
       ],
       "conversionMethod": "pd.DataFrame",
       "ref": "0fd1638a-dfd7-46fe-aa01-1edf05f6926e",
       "rows": [
        [
         "0",
         "Data Engineer",
         "289"
        ],
        [
         "1",
         "Data Analyst",
         "215"
        ],
        [
         "2",
         "Data Scientist",
         "123"
        ],
        [
         "3",
         "Senior Data Engineer",
         "114"
        ],
        [
         "4",
         "Software Engineer",
         "96"
        ],
        [
         "5",
         "Business Analyst",
         "62"
        ],
        [
         "6",
         "Machine Learning Engineer",
         "39"
        ],
        [
         "7",
         "Senior Data Analyst",
         "37"
        ],
        [
         "8",
         "Senior Data Scientist",
         "30"
        ],
        [
         "9",
         "Cloud Engineer",
         "14"
        ]
       ],
       "shape": {
        "columns": 2,
        "rows": 10
       }
      },
      "text/html": [
       "<div>\n",
       "<style scoped>\n",
       "    .dataframe tbody tr th:only-of-type {\n",
       "        vertical-align: middle;\n",
       "    }\n",
       "\n",
       "    .dataframe tbody tr th {\n",
       "        vertical-align: top;\n",
       "    }\n",
       "\n",
       "    .dataframe thead th {\n",
       "        text-align: right;\n",
       "    }\n",
       "</style>\n",
       "<table border=\"1\" class=\"dataframe\">\n",
       "  <thead>\n",
       "    <tr style=\"text-align: right;\">\n",
       "      <th></th>\n",
       "      <th>position</th>\n",
       "      <th>job_posting_count</th>\n",
       "    </tr>\n",
       "  </thead>\n",
       "  <tbody>\n",
       "    <tr>\n",
       "      <th>0</th>\n",
       "      <td>Data Engineer</td>\n",
       "      <td>289</td>\n",
       "    </tr>\n",
       "    <tr>\n",
       "      <th>1</th>\n",
       "      <td>Data Analyst</td>\n",
       "      <td>215</td>\n",
       "    </tr>\n",
       "    <tr>\n",
       "      <th>2</th>\n",
       "      <td>Data Scientist</td>\n",
       "      <td>123</td>\n",
       "    </tr>\n",
       "    <tr>\n",
       "      <th>3</th>\n",
       "      <td>Senior Data Engineer</td>\n",
       "      <td>114</td>\n",
       "    </tr>\n",
       "    <tr>\n",
       "      <th>4</th>\n",
       "      <td>Software Engineer</td>\n",
       "      <td>96</td>\n",
       "    </tr>\n",
       "    <tr>\n",
       "      <th>5</th>\n",
       "      <td>Business Analyst</td>\n",
       "      <td>62</td>\n",
       "    </tr>\n",
       "    <tr>\n",
       "      <th>6</th>\n",
       "      <td>Machine Learning Engineer</td>\n",
       "      <td>39</td>\n",
       "    </tr>\n",
       "    <tr>\n",
       "      <th>7</th>\n",
       "      <td>Senior Data Analyst</td>\n",
       "      <td>37</td>\n",
       "    </tr>\n",
       "    <tr>\n",
       "      <th>8</th>\n",
       "      <td>Senior Data Scientist</td>\n",
       "      <td>30</td>\n",
       "    </tr>\n",
       "    <tr>\n",
       "      <th>9</th>\n",
       "      <td>Cloud Engineer</td>\n",
       "      <td>14</td>\n",
       "    </tr>\n",
       "  </tbody>\n",
       "</table>\n",
       "</div>"
      ],
      "text/plain": [
       "                    position  job_posting_count\n",
       "0              Data Engineer                289\n",
       "1               Data Analyst                215\n",
       "2             Data Scientist                123\n",
       "3       Senior Data Engineer                114\n",
       "4          Software Engineer                 96\n",
       "5           Business Analyst                 62\n",
       "6  Machine Learning Engineer                 39\n",
       "7        Senior Data Analyst                 37\n",
       "8      Senior Data Scientist                 30\n",
       "9             Cloud Engineer                 14"
      ]
     },
     "execution_count": 30,
     "metadata": {},
     "output_type": "execute_result"
    }
   ],
   "source": [
    "df1 = results_dict[1]\n",
    "df1"
   ]
  },
  {
   "cell_type": "code",
   "execution_count": 69,
   "metadata": {},
   "outputs": [
    {
     "data": {
      "text/plain": [
       "Text(0, 0.5, 'Position')"
      ]
     },
     "execution_count": 69,
     "metadata": {},
     "output_type": "execute_result"
    },
    {
     "data": {
      "image/png": "[encoded data removed]",
      "text/plain": [
       "<Figure size 640x480 with 1 Axes>"
      ]
     },
     "metadata": {},
     "output_type": "display_data"
    }
   ],
   "source": [
    "sns.barplot(df1, y='position', x='job_posting_count')\n",
    "\n",
    "plt.title('The Most In-Demand Data Jobs in Poland (2023)', size=14)\n",
    "plt.xlabel('Number of Job Postings', size=12)\n",
    "plt.ylabel('Position', size=12)"
   ]
  },
  {
   "cell_type": "markdown",
   "metadata": {},
   "source": [
    "## Q2. What are the positions that require a degree most often?"
   ]
  },
  {
   "cell_type": "code",
   "execution_count": 33,
   "metadata": {},
   "outputs": [
    {
     "data": {
      "application/vnd.microsoft.datawrangler.viewer.v0+json": {
       "columns": [
        {
         "name": "index",
         "rawType": "int64",
         "type": "integer"
        },
        {
         "name": "position",
         "rawType": "object",
         "type": "string"
        },
        {
         "name": "degree_required_pct",
         "rawType": "float64",
         "type": "float"
        }
       ],
       "conversionMethod": "pd.DataFrame",
       "ref": "ca7f6c36-0350-4ed3-88c4-682a50cff3c4",
       "rows": [
        [
         "0",
         "Machine Learning Engineer",
         "0.94"
        ],
        [
         "1",
         "Senior Data Scientist",
         "0.87"
        ],
        [
         "2",
         "Data Scientist",
         "0.83"
        ],
        [
         "3",
         "Business Analyst",
         "0.67"
        ],
        [
         "4",
         "Senior Data Analyst",
         "0.51"
        ],
        [
         "5",
         "Data Analyst",
         "0.44"
        ],
        [
         "6",
         "Software Engineer",
         "0.4"
        ],
        [
         "7",
         "Cloud Engineer",
         "0.35"
        ],
        [
         "8",
         "Senior Data Engineer",
         "0.34"
        ],
        [
         "9",
         "Data Engineer",
         "0.32"
        ]
       ],
       "shape": {
        "columns": 2,
        "rows": 10
       }
      },
      "text/html": [
       "<div>\n",
       "<style scoped>\n",
       "    .dataframe tbody tr th:only-of-type {\n",
       "        vertical-align: middle;\n",
       "    }\n",
       "\n",
       "    .dataframe tbody tr th {\n",
       "        vertical-align: top;\n",
       "    }\n",
       "\n",
       "    .dataframe thead th {\n",
       "        text-align: right;\n",
       "    }\n",
       "</style>\n",
       "<table border=\"1\" class=\"dataframe\">\n",
       "  <thead>\n",
       "    <tr style=\"text-align: right;\">\n",
       "      <th></th>\n",
       "      <th>position</th>\n",
       "      <th>degree_required_pct</th>\n",
       "    </tr>\n",
       "  </thead>\n",
       "  <tbody>\n",
       "    <tr>\n",
       "      <th>0</th>\n",
       "      <td>Machine Learning Engineer</td>\n",
       "      <td>0.94</td>\n",
       "    </tr>\n",
       "    <tr>\n",
       "      <th>1</th>\n",
       "      <td>Senior Data Scientist</td>\n",
       "      <td>0.87</td>\n",
       "    </tr>\n",
       "    <tr>\n",
       "      <th>2</th>\n",
       "      <td>Data Scientist</td>\n",
       "      <td>0.83</td>\n",
       "    </tr>\n",
       "    <tr>\n",
       "      <th>3</th>\n",
       "      <td>Business Analyst</td>\n",
       "      <td>0.67</td>\n",
       "    </tr>\n",
       "    <tr>\n",
       "      <th>4</th>\n",
       "      <td>Senior Data Analyst</td>\n",
       "      <td>0.51</td>\n",
       "    </tr>\n",
       "    <tr>\n",
       "      <th>5</th>\n",
       "      <td>Data Analyst</td>\n",
       "      <td>0.44</td>\n",
       "    </tr>\n",
       "    <tr>\n",
       "      <th>6</th>\n",
       "      <td>Software Engineer</td>\n",
       "      <td>0.40</td>\n",
       "    </tr>\n",
       "    <tr>\n",
       "      <th>7</th>\n",
       "      <td>Cloud Engineer</td>\n",
       "      <td>0.35</td>\n",
       "    </tr>\n",
       "    <tr>\n",
       "      <th>8</th>\n",
       "      <td>Senior Data Engineer</td>\n",
       "      <td>0.34</td>\n",
       "    </tr>\n",
       "    <tr>\n",
       "      <th>9</th>\n",
       "      <td>Data Engineer</td>\n",
       "      <td>0.32</td>\n",
       "    </tr>\n",
       "  </tbody>\n",
       "</table>\n",
       "</div>"
      ],
      "text/plain": [
       "                    position  degree_required_pct\n",
       "0  Machine Learning Engineer                 0.94\n",
       "1      Senior Data Scientist                 0.87\n",
       "2             Data Scientist                 0.83\n",
       "3           Business Analyst                 0.67\n",
       "4        Senior Data Analyst                 0.51\n",
       "5               Data Analyst                 0.44\n",
       "6          Software Engineer                 0.40\n",
       "7             Cloud Engineer                 0.35\n",
       "8       Senior Data Engineer                 0.34\n",
       "9              Data Engineer                 0.32"
      ]
     },
     "execution_count": 33,
     "metadata": {},
     "output_type": "execute_result"
    }
   ],
   "source": [
    "df2 = results_dict[2]\n",
    "df2"
   ]
  },
  {
   "cell_type": "code",
   "execution_count": 61,
   "metadata": {},
   "outputs": [
    {
     "data": {
      "application/vnd.microsoft.datawrangler.viewer.v0+json": {
       "columns": [
        {
         "name": "index",
         "rawType": "int64",
         "type": "integer"
        },
        {
         "name": "position",
         "rawType": "object",
         "type": "string"
        },
        {
         "name": "degree_required_pct",
         "rawType": "float64",
         "type": "float"
        }
       ],
       "conversionMethod": "pd.DataFrame",
       "ref": "56518df7-9be4-462f-9143-4aea8965161d",
       "rows": [
        [
         "0",
         "Machine Learning Engineer",
         "94.0"
        ],
        [
         "1",
         "Senior Data Scientist",
         "87.0"
        ],
        [
         "2",
         "Data Scientist",
         "83.0"
        ],
        [
         "3",
         "Business Analyst",
         "67.0"
        ],
        [
         "4",
         "Senior Data Analyst",
         "51.0"
        ],
        [
         "5",
         "Data Analyst",
         "44.0"
        ],
        [
         "6",
         "Software Engineer",
         "40.0"
        ],
        [
         "7",
         "Cloud Engineer",
         "35.0"
        ],
        [
         "8",
         "Senior Data Engineer",
         "34.0"
        ],
        [
         "9",
         "Data Engineer",
         "32.0"
        ]
       ],
       "shape": {
        "columns": 2,
        "rows": 10
       }
      },
      "text/html": [
       "<div>\n",
       "<style scoped>\n",
       "    .dataframe tbody tr th:only-of-type {\n",
       "        vertical-align: middle;\n",
       "    }\n",
       "\n",
       "    .dataframe tbody tr th {\n",
       "        vertical-align: top;\n",
       "    }\n",
       "\n",
       "    .dataframe thead th {\n",
       "        text-align: right;\n",
       "    }\n",
       "</style>\n",
       "<table border=\"1\" class=\"dataframe\">\n",
       "  <thead>\n",
       "    <tr style=\"text-align: right;\">\n",
       "      <th></th>\n",
       "      <th>position</th>\n",
       "      <th>degree_required_pct</th>\n",
       "    </tr>\n",
       "  </thead>\n",
       "  <tbody>\n",
       "    <tr>\n",
       "      <th>0</th>\n",
       "      <td>Machine Learning Engineer</td>\n",
       "      <td>94.0</td>\n",
       "    </tr>\n",
       "    <tr>\n",
       "      <th>1</th>\n",
       "      <td>Senior Data Scientist</td>\n",
       "      <td>87.0</td>\n",
       "    </tr>\n",
       "    <tr>\n",
       "      <th>2</th>\n",
       "      <td>Data Scientist</td>\n",
       "      <td>83.0</td>\n",
       "    </tr>\n",
       "    <tr>\n",
       "      <th>3</th>\n",
       "      <td>Business Analyst</td>\n",
       "      <td>67.0</td>\n",
       "    </tr>\n",
       "    <tr>\n",
       "      <th>4</th>\n",
       "      <td>Senior Data Analyst</td>\n",
       "      <td>51.0</td>\n",
       "    </tr>\n",
       "    <tr>\n",
       "      <th>5</th>\n",
       "      <td>Data Analyst</td>\n",
       "      <td>44.0</td>\n",
       "    </tr>\n",
       "    <tr>\n",
       "      <th>6</th>\n",
       "      <td>Software Engineer</td>\n",
       "      <td>40.0</td>\n",
       "    </tr>\n",
       "    <tr>\n",
       "      <th>7</th>\n",
       "      <td>Cloud Engineer</td>\n",
       "      <td>35.0</td>\n",
       "    </tr>\n",
       "    <tr>\n",
       "      <th>8</th>\n",
       "      <td>Senior Data Engineer</td>\n",
       "      <td>34.0</td>\n",
       "    </tr>\n",
       "    <tr>\n",
       "      <th>9</th>\n",
       "      <td>Data Engineer</td>\n",
       "      <td>32.0</td>\n",
       "    </tr>\n",
       "  </tbody>\n",
       "</table>\n",
       "</div>"
      ],
      "text/plain": [
       "                    position  degree_required_pct\n",
       "0  Machine Learning Engineer                 94.0\n",
       "1      Senior Data Scientist                 87.0\n",
       "2             Data Scientist                 83.0\n",
       "3           Business Analyst                 67.0\n",
       "4        Senior Data Analyst                 51.0\n",
       "5               Data Analyst                 44.0\n",
       "6          Software Engineer                 40.0\n",
       "7             Cloud Engineer                 35.0\n",
       "8       Senior Data Engineer                 34.0\n",
       "9              Data Engineer                 32.0"
      ]
     },
     "execution_count": 61,
     "metadata": {},
     "output_type": "execute_result"
    }
   ],
   "source": [
    "df2['degree_required_pct'] *= 100\n",
    "df2"
   ]
  },
  {
   "cell_type": "code",
   "execution_count": 70,
   "metadata": {},
   "outputs": [
    {
     "data": {
      "text/plain": [
       "([<matplotlib.axis.XTick at 0x228d2777f50>,\n",
       "  <matplotlib.axis.XTick at 0x228d2774140>,\n",
       "  <matplotlib.axis.XTick at 0x228d19d1940>,\n",
       "  <matplotlib.axis.XTick at 0x228d1b07ef0>,\n",
       "  <matplotlib.axis.XTick at 0x228d27c59d0>,\n",
       "  <matplotlib.axis.XTick at 0x228d27c5df0>],\n",
       " [Text(0, 0, '0'),\n",
       "  Text(20, 0, '20'),\n",
       "  Text(40, 0, '40'),\n",
       "  Text(60, 0, '60'),\n",
       "  Text(80, 0, '80'),\n",
       "  Text(100, 0, '100')])"
      ]
     },
     "execution_count": 70,
     "metadata": {},
     "output_type": "execute_result"
    },
    {
     "data": {
      "image/png": "[encoded data removed]",
      "text/plain": [
       "<Figure size 640x480 with 1 Axes>"
      ]
     },
     "metadata": {},
     "output_type": "display_data"
    }
   ],
   "source": [
    "sns.barplot(df2, y='position', x='degree_required_pct')\n",
    "\n",
    "plt.title('Percentage of Degree Mentions in Job Postings by Position', size=14)\n",
    "plt.xlabel('Degree Mentions [%]', size=12)\n",
    "plt.ylabel('Position', size=12)\n",
    "\n",
    "plt.xticks(range(0, 101, 20))"
   ]
  },
  {
   "cell_type": "markdown",
   "metadata": {},
   "source": [
    "## Q3. What are the most in-demand skills for Data Analysts vs Data Scientists vs Data Engineers? "
   ]
  },
  {
   "cell_type": "code",
   "execution_count": 35,
   "metadata": {},
   "outputs": [
    {
     "data": {
      "application/vnd.microsoft.datawrangler.viewer.v0+json": {
       "columns": [
        {
         "name": "index",
         "rawType": "int64",
         "type": "integer"
        },
        {
         "name": "job_title",
         "rawType": "object",
         "type": "string"
        },
        {
         "name": "skill",
         "rawType": "object",
         "type": "string"
        },
        {
         "name": "demand_count",
         "rawType": "int64",
         "type": "integer"
        }
       ],
       "conversionMethod": "pd.DataFrame",
       "ref": "8d322471-695f-4331-b18f-74e3188b890e",
       "rows": [
        [
         "0",
         "Data Analyst",
         "sql",
         "1581"
        ],
        [
         "1",
         "Data Analyst",
         "excel",
         "1186"
        ],
        [
         "2",
         "Data Analyst",
         "python",
         "950"
        ],
        [
         "3",
         "Data Analyst",
         "tableau",
         "692"
        ],
        [
         "4",
         "Data Analyst",
         "power bi",
         "644"
        ],
        [
         "5",
         "Data Scientist",
         "python",
         "1048"
        ],
        [
         "6",
         "Data Scientist",
         "sql",
         "908"
        ],
        [
         "7",
         "Data Scientist",
         "r",
         "387"
        ],
        [
         "8",
         "Data Scientist",
         "azure",
         "328"
        ],
        [
         "9",
         "Data Scientist",
         "aws",
         "295"
        ],
        [
         "10",
         "Data Engineer",
         "python",
         "2247"
        ],
        [
         "11",
         "Data Engineer",
         "sql",
         "2230"
        ],
        [
         "12",
         "Data Engineer",
         "azure",
         "1449"
        ],
        [
         "13",
         "Data Engineer",
         "aws",
         "1263"
        ],
        [
         "14",
         "Data Engineer",
         "spark",
         "1250"
        ]
       ],
       "shape": {
        "columns": 3,
        "rows": 15
       }
      },
      "text/html": [
       "<div>\n",
       "<style scoped>\n",
       "    .dataframe tbody tr th:only-of-type {\n",
       "        vertical-align: middle;\n",
       "    }\n",
       "\n",
       "    .dataframe tbody tr th {\n",
       "        vertical-align: top;\n",
       "    }\n",
       "\n",
       "    .dataframe thead th {\n",
       "        text-align: right;\n",
       "    }\n",
       "</style>\n",
       "<table border=\"1\" class=\"dataframe\">\n",
       "  <thead>\n",
       "    <tr style=\"text-align: right;\">\n",
       "      <th></th>\n",
       "      <th>job_title</th>\n",
       "      <th>skill</th>\n",
       "      <th>demand_count</th>\n",
       "    </tr>\n",
       "  </thead>\n",
       "  <tbody>\n",
       "    <tr>\n",
       "      <th>0</th>\n",
       "      <td>Data Analyst</td>\n",
       "      <td>sql</td>\n",
       "      <td>1581</td>\n",
       "    </tr>\n",
       "    <tr>\n",
       "      <th>1</th>\n",
       "      <td>Data Analyst</td>\n",
       "      <td>excel</td>\n",
       "      <td>1186</td>\n",
       "    </tr>\n",
       "    <tr>\n",
       "      <th>2</th>\n",
       "      <td>Data Analyst</td>\n",
       "      <td>python</td>\n",
       "      <td>950</td>\n",
       "    </tr>\n",
       "    <tr>\n",
       "      <th>3</th>\n",
       "      <td>Data Analyst</td>\n",
       "      <td>tableau</td>\n",
       "      <td>692</td>\n",
       "    </tr>\n",
       "    <tr>\n",
       "      <th>4</th>\n",
       "      <td>Data Analyst</td>\n",
       "      <td>power bi</td>\n",
       "      <td>644</td>\n",
       "    </tr>\n",
       "    <tr>\n",
       "      <th>5</th>\n",
       "      <td>Data Scientist</td>\n",
       "      <td>python</td>\n",
       "      <td>1048</td>\n",
       "    </tr>\n",
       "    <tr>\n",
       "      <th>6</th>\n",
       "      <td>Data Scientist</td>\n",
       "      <td>sql</td>\n",
       "      <td>908</td>\n",
       "    </tr>\n",
       "    <tr>\n",
       "      <th>7</th>\n",
       "      <td>Data Scientist</td>\n",
       "      <td>r</td>\n",
       "      <td>387</td>\n",
       "    </tr>\n",
       "    <tr>\n",
       "      <th>8</th>\n",
       "      <td>Data Scientist</td>\n",
       "      <td>azure</td>\n",
       "      <td>328</td>\n",
       "    </tr>\n",
       "    <tr>\n",
       "      <th>9</th>\n",
       "      <td>Data Scientist</td>\n",
       "      <td>aws</td>\n",
       "      <td>295</td>\n",
       "    </tr>\n",
       "    <tr>\n",
       "      <th>10</th>\n",
       "      <td>Data Engineer</td>\n",
       "      <td>python</td>\n",
       "      <td>2247</td>\n",
       "    </tr>\n",
       "    <tr>\n",
       "      <th>11</th>\n",
       "      <td>Data Engineer</td>\n",
       "      <td>sql</td>\n",
       "      <td>2230</td>\n",
       "    </tr>\n",
       "    <tr>\n",
       "      <th>12</th>\n",
       "      <td>Data Engineer</td>\n",
       "      <td>azure</td>\n",
       "      <td>1449</td>\n",
       "    </tr>\n",
       "    <tr>\n",
       "      <th>13</th>\n",
       "      <td>Data Engineer</td>\n",
       "      <td>aws</td>\n",
       "      <td>1263</td>\n",
       "    </tr>\n",
       "    <tr>\n",
       "      <th>14</th>\n",
       "      <td>Data Engineer</td>\n",
       "      <td>spark</td>\n",
       "      <td>1250</td>\n",
       "    </tr>\n",
       "  </tbody>\n",
       "</table>\n",
       "</div>"
      ],
      "text/plain": [
       "         job_title     skill  demand_count\n",
       "0     Data Analyst       sql          1581\n",
       "1     Data Analyst     excel          1186\n",
       "2     Data Analyst    python           950\n",
       "3     Data Analyst   tableau           692\n",
       "4     Data Analyst  power bi           644\n",
       "5   Data Scientist    python          1048\n",
       "6   Data Scientist       sql           908\n",
       "7   Data Scientist         r           387\n",
       "8   Data Scientist     azure           328\n",
       "9   Data Scientist       aws           295\n",
       "10   Data Engineer    python          2247\n",
       "11   Data Engineer       sql          2230\n",
       "12   Data Engineer     azure          1449\n",
       "13   Data Engineer       aws          1263\n",
       "14   Data Engineer     spark          1250"
      ]
     },
     "execution_count": 35,
     "metadata": {},
     "output_type": "execute_result"
    }
   ],
   "source": [
    "df3 = results_dict[3]\n",
    "df3"
   ]
  },
  {
   "cell_type": "code",
   "execution_count": 59,
   "metadata": {},
   "outputs": [
    {
     "data": {
      "application/vnd.microsoft.datawrangler.viewer.v0+json": {
       "columns": [
        {
         "name": "('job_title', 'skill')",
         "rawType": "object",
         "type": "unknown"
        },
        {
         "name": "demand_count",
         "rawType": "int64",
         "type": "integer"
        }
       ],
       "conversionMethod": "pd.DataFrame",
       "ref": "de76165e-1a7b-4400-9380-64f446f77796",
       "rows": [
        [
         "('Data Analyst', 'sql')",
         "1581"
        ],
        [
         "('Data Analyst', 'excel')",
         "1186"
        ],
        [
         "('Data Analyst', 'python')",
         "950"
        ],
        [
         "('Data Analyst', 'tableau')",
         "692"
        ],
        [
         "('Data Analyst', 'power bi')",
         "644"
        ],
        [
         "('Data Scientist', 'python')",
         "1048"
        ],
        [
         "('Data Scientist', 'sql')",
         "908"
        ],
        [
         "('Data Scientist', 'r')",
         "387"
        ],
        [
         "('Data Scientist', 'azure')",
         "328"
        ],
        [
         "('Data Scientist', 'aws')",
         "295"
        ],
        [
         "('Data Engineer', 'python')",
         "2247"
        ],
        [
         "('Data Engineer', 'sql')",
         "2230"
        ],
        [
         "('Data Engineer', 'azure')",
         "1449"
        ],
        [
         "('Data Engineer', 'aws')",
         "1263"
        ],
        [
         "('Data Engineer', 'spark')",
         "1250"
        ]
       ],
       "shape": {
        "columns": 1,
        "rows": 15
       }
      },
      "text/html": [
       "<div>\n",
       "<style scoped>\n",
       "    .dataframe tbody tr th:only-of-type {\n",
       "        vertical-align: middle;\n",
       "    }\n",
       "\n",
       "    .dataframe tbody tr th {\n",
       "        vertical-align: top;\n",
       "    }\n",
       "\n",
       "    .dataframe thead th {\n",
       "        text-align: right;\n",
       "    }\n",
       "</style>\n",
       "<table border=\"1\" class=\"dataframe\">\n",
       "  <thead>\n",
       "    <tr style=\"text-align: right;\">\n",
       "      <th></th>\n",
       "      <th></th>\n",
       "      <th>demand_count</th>\n",
       "    </tr>\n",
       "    <tr>\n",
       "      <th>job_title</th>\n",
       "      <th>skill</th>\n",
       "      <th></th>\n",
       "    </tr>\n",
       "  </thead>\n",
       "  <tbody>\n",
       "    <tr>\n",
       "      <th rowspan=\"5\" valign=\"top\">Data Analyst</th>\n",
       "      <th>sql</th>\n",
       "      <td>1581</td>\n",
       "    </tr>\n",
       "    <tr>\n",
       "      <th>excel</th>\n",
       "      <td>1186</td>\n",
       "    </tr>\n",
       "    <tr>\n",
       "      <th>python</th>\n",
       "      <td>950</td>\n",
       "    </tr>\n",
       "    <tr>\n",
       "      <th>tableau</th>\n",
       "      <td>692</td>\n",
       "    </tr>\n",
       "    <tr>\n",
       "      <th>power bi</th>\n",
       "      <td>644</td>\n",
       "    </tr>\n",
       "    <tr>\n",
       "      <th rowspan=\"5\" valign=\"top\">Data Scientist</th>\n",
       "      <th>python</th>\n",
       "      <td>1048</td>\n",
       "    </tr>\n",
       "    <tr>\n",
       "      <th>sql</th>\n",
       "      <td>908</td>\n",
       "    </tr>\n",
       "    <tr>\n",
       "      <th>r</th>\n",
       "      <td>387</td>\n",
       "    </tr>\n",
       "    <tr>\n",
       "      <th>azure</th>\n",
       "      <td>328</td>\n",
       "    </tr>\n",
       "    <tr>\n",
       "      <th>aws</th>\n",
       "      <td>295</td>\n",
       "    </tr>\n",
       "    <tr>\n",
       "      <th rowspan=\"5\" valign=\"top\">Data Engineer</th>\n",
       "      <th>python</th>\n",
       "      <td>2247</td>\n",
       "    </tr>\n",
       "    <tr>\n",
       "      <th>sql</th>\n",
       "      <td>2230</td>\n",
       "    </tr>\n",
       "    <tr>\n",
       "      <th>azure</th>\n",
       "      <td>1449</td>\n",
       "    </tr>\n",
       "    <tr>\n",
       "      <th>aws</th>\n",
       "      <td>1263</td>\n",
       "    </tr>\n",
       "    <tr>\n",
       "      <th>spark</th>\n",
       "      <td>1250</td>\n",
       "    </tr>\n",
       "  </tbody>\n",
       "</table>\n",
       "</div>"
      ],
      "text/plain": [
       "                         demand_count\n",
       "job_title      skill                 \n",
       "Data Analyst   sql               1581\n",
       "               excel             1186\n",
       "               python             950\n",
       "               tableau            692\n",
       "               power bi           644\n",
       "Data Scientist python            1048\n",
       "               sql                908\n",
       "               r                  387\n",
       "               azure              328\n",
       "               aws                295\n",
       "Data Engineer  python            2247\n",
       "               sql               2230\n",
       "               azure             1449\n",
       "               aws               1263\n",
       "               spark             1250"
      ]
     },
     "execution_count": 59,
     "metadata": {},
     "output_type": "execute_result"
    }
   ],
   "source": [
    "df3.set_index(['job_title', 'skill'])"
   ]
  },
  {
   "cell_type": "code",
   "execution_count": null,
   "metadata": {},
   "outputs": [],
   "source": [
    "# możemy zrobić taki potrójny plot dla stanowisk osobno, żeby nie przytłoczyć informacjami na jednym"
   ]
  }
 ],
 "metadata": {
  "kernelspec": {
   "display_name": "base",
   "language": "python",
   "name": "python3"
  },
  "language_info": {
   "codemirror_mode": {
    "name": "ipython",
    "version": 3
   },
   "file_extension": ".py",
   "mimetype": "text/x-python",
   "name": "python",
   "nbconvert_exporter": "python",
   "pygments_lexer": "ipython3",
   "version": "3.12.7"
  }
 },
 "nbformat": 4,
 "nbformat_minor": 2
}
