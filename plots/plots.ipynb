{
 "cells": [
  {
   "cell_type": "code",
   "execution_count": 4,
   "metadata": {},
   "outputs": [],
   "source": [
    "import pandas as pd \n",
    "import matplotlib.pyplot as plt\n",
    "import seaborn as sns \n",
    "import os"
   ]
  },
  {
   "cell_type": "code",
   "execution_count": 33,
   "metadata": {},
   "outputs": [
    {
     "name": "stdout",
     "output_type": "stream",
     "text": [
      "Files in the folder\n",
      "--------------------\n",
      "1_most_in_demand_jobs.csv\n",
      "2_jobs_requiring_degree.csv\n",
      "3_top_demanded_skills.csv\n"
     ]
    }
   ],
   "source": [
    "# Set the data folder path\n",
    "results_folder = r'D:\\TECH HUB\\CODING\\SQL_Project_Data_Job_Analysis\\project_sql\\query_results'\n",
    "\n",
    "# Load all the query results from csv files\n",
    "results_dict = {} \n",
    "print(\"Files in the folder\")\n",
    "print(\"-\"*20)\n",
    "for idx, filename in enumerate(os.listdir(results_folder), start=1):\n",
    "    print(filename)\n",
    "    file_path = os.path.join(results_folder, filename)\n",
    "    results_dict[idx] = pd.read_csv(file_path)"
   ]
  },
  {
   "cell_type": "markdown",
   "metadata": {},
   "source": [
    "## Q1. What are the most in-demand data jobs in Poland?"
   ]
  },
  {
   "cell_type": "code",
   "execution_count": 23,
   "metadata": {},
   "outputs": [
    {
     "data": {
      "application/vnd.microsoft.datawrangler.viewer.v0+json": {
       "columns": [
        {
         "name": "index",
         "rawType": "int64",
         "type": "integer"
        },
        {
         "name": "position",
         "rawType": "object",
         "type": "string"
        },
        {
         "name": "job_posting_count",
         "rawType": "int64",
         "type": "integer"
        }
       ],
       "conversionMethod": "pd.DataFrame",
       "ref": "3e092ced-1edd-4481-b056-1980954f0622",
       "rows": [
        [
         "0",
         "Data Engineer",
         "289"
        ],
        [
         "1",
         "Data Analyst",
         "215"
        ],
        [
         "2",
         "Data Scientist",
         "123"
        ],
        [
         "3",
         "Senior Data Engineer",
         "114"
        ],
        [
         "4",
         "Software Engineer",
         "96"
        ],
        [
         "5",
         "Business Analyst",
         "62"
        ],
        [
         "6",
         "Machine Learning Engineer",
         "39"
        ],
        [
         "7",
         "Senior Data Analyst",
         "37"
        ],
        [
         "8",
         "Senior Data Scientist",
         "30"
        ],
        [
         "9",
         "Cloud Engineer",
         "14"
        ]
       ],
       "shape": {
        "columns": 2,
        "rows": 10
       }
      },
      "text/html": [
       "<div>\n",
       "<style scoped>\n",
       "    .dataframe tbody tr th:only-of-type {\n",
       "        vertical-align: middle;\n",
       "    }\n",
       "\n",
       "    .dataframe tbody tr th {\n",
       "        vertical-align: top;\n",
       "    }\n",
       "\n",
       "    .dataframe thead th {\n",
       "        text-align: right;\n",
       "    }\n",
       "</style>\n",
       "<table border=\"1\" class=\"dataframe\">\n",
       "  <thead>\n",
       "    <tr style=\"text-align: right;\">\n",
       "      <th></th>\n",
       "      <th>position</th>\n",
       "      <th>job_posting_count</th>\n",
       "    </tr>\n",
       "  </thead>\n",
       "  <tbody>\n",
       "    <tr>\n",
       "      <th>0</th>\n",
       "      <td>Data Engineer</td>\n",
       "      <td>289</td>\n",
       "    </tr>\n",
       "    <tr>\n",
       "      <th>1</th>\n",
       "      <td>Data Analyst</td>\n",
       "      <td>215</td>\n",
       "    </tr>\n",
       "    <tr>\n",
       "      <th>2</th>\n",
       "      <td>Data Scientist</td>\n",
       "      <td>123</td>\n",
       "    </tr>\n",
       "    <tr>\n",
       "      <th>3</th>\n",
       "      <td>Senior Data Engineer</td>\n",
       "      <td>114</td>\n",
       "    </tr>\n",
       "    <tr>\n",
       "      <th>4</th>\n",
       "      <td>Software Engineer</td>\n",
       "      <td>96</td>\n",
       "    </tr>\n",
       "    <tr>\n",
       "      <th>5</th>\n",
       "      <td>Business Analyst</td>\n",
       "      <td>62</td>\n",
       "    </tr>\n",
       "    <tr>\n",
       "      <th>6</th>\n",
       "      <td>Machine Learning Engineer</td>\n",
       "      <td>39</td>\n",
       "    </tr>\n",
       "    <tr>\n",
       "      <th>7</th>\n",
       "      <td>Senior Data Analyst</td>\n",
       "      <td>37</td>\n",
       "    </tr>\n",
       "    <tr>\n",
       "      <th>8</th>\n",
       "      <td>Senior Data Scientist</td>\n",
       "      <td>30</td>\n",
       "    </tr>\n",
       "    <tr>\n",
       "      <th>9</th>\n",
       "      <td>Cloud Engineer</td>\n",
       "      <td>14</td>\n",
       "    </tr>\n",
       "  </tbody>\n",
       "</table>\n",
       "</div>"
      ],
      "text/plain": [
       "                    position  job_posting_count\n",
       "0              Data Engineer                289\n",
       "1               Data Analyst                215\n",
       "2             Data Scientist                123\n",
       "3       Senior Data Engineer                114\n",
       "4          Software Engineer                 96\n",
       "5           Business Analyst                 62\n",
       "6  Machine Learning Engineer                 39\n",
       "7        Senior Data Analyst                 37\n",
       "8      Senior Data Scientist                 30\n",
       "9             Cloud Engineer                 14"
      ]
     },
     "execution_count": 23,
     "metadata": {},
     "output_type": "execute_result"
    }
   ],
   "source": [
    "results_dict[1]"
   ]
  },
  {
   "cell_type": "markdown",
   "metadata": {},
   "source": [
    "## Q2. What are the positions that require a degree most often?"
   ]
  },
  {
   "cell_type": "markdown",
   "metadata": {},
   "source": [
    "## Q3. What are the most in-demand skills for Data Analysts vs Data Scientists vs Data Engineers? "
   ]
  }
 ],
 "metadata": {
  "kernelspec": {
   "display_name": "base",
   "language": "python",
   "name": "python3"
  },
  "language_info": {
   "codemirror_mode": {
    "name": "ipython",
    "version": 3
   },
   "file_extension": ".py",
   "mimetype": "text/x-python",
   "name": "python",
   "nbconvert_exporter": "python",
   "pygments_lexer": "ipython3",
   "version": "3.12.7"
  }
 },
 "nbformat": 4,
 "nbformat_minor": 2
}
